{
 "cells": [
  {
   "cell_type": "code",
   "execution_count": 2,
   "id": "f92d7fef",
   "metadata": {},
   "outputs": [],
   "source": [
    "import os\n",
    "from dotenv import load_dotenv\n",
    "\n",
    "# 載入 .env 檔案\n",
    "load_dotenv()\n",
    "conn_string = os.getenv('RENDER_DATABASE')"
   ]
  },
  {
   "cell_type": "code",
   "execution_count": 4,
   "id": "23e06294",
   "metadata": {},
   "outputs": [
    {
     "name": "stdout",
     "output_type": "stream",
     "text": [
      "連線成功\n"
     ]
    }
   ],
   "source": [
    "import psycopg2\n",
    "from psycopg2 import OperationalError\n",
    "try:\n",
    "    conn = psycopg2.connect(conn_string)\n",
    "    print(\"連線成功\")\n",
    "except OperationalError as e:\n",
    "    print(\"連線失敗\")\n",
    "    print(e)\n",
    "\n",
    "conn.close()"
   ]
  }
 ],
 "metadata": {
  "kernelspec": {
   "display_name": "flask",
   "language": "python",
   "name": "python3"
  },
  "language_info": {
   "codemirror_mode": {
    "name": "ipython",
    "version": 3
   },
   "file_extension": ".py",
   "mimetype": "text/x-python",
   "name": "python",
   "nbconvert_exporter": "python",
   "pygments_lexer": "ipython3",
   "version": "3.11.11"
  }
 },
 "nbformat": 4,
 "nbformat_minor": 5
}
